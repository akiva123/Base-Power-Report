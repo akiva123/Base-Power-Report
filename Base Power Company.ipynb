{
 "cells": [
  {
   "cell_type": "markdown",
   "id": "f6359678",
   "metadata": {},
   "source": [
    "# Base Power Company Report"
   ]
  },
  {
   "cell_type": "code",
   "execution_count": null,
   "id": "9c4ae780",
   "metadata": {},
   "outputs": [],
   "source": [
    "import pandas as pd\n",
    "import numpy as np\n",
    "import matplotlib.pyplot as plt\n",
    "import plotly.express as px\n",
    "import numpy as np"
   ]
  },
  {
   "cell_type": "markdown",
   "id": "bc2f6baa",
   "metadata": {},
   "source": [
    "The following analyses use public data for the United States from FRED and IRENA to demonstrate how, if this were Base's private data, to which I currently have no access, I would showcase three key metrics that align with Base's goals and stage of growth."
   ]
  },
  {
   "cell_type": "markdown",
   "id": "d6365c9b",
   "metadata": {},
   "source": [
    "Capacity Utilization (CU) and the Industrial Production Index (IPI) are critical economic indicators that measure industrial efficiency and output, directly aligning with Base's goals of optimizing resource utilization and driving industrial growth. CU reflects how effectively industries use their productive capacity, while IPI tracks real industrial output across utilities. By analyzing CU and IPI trends, Base can identify opportunities to maximize operational efficiency and expand its industrial capacity, supporting its current stage of growth."
   ]
  },
  {
   "cell_type": "code",
   "execution_count": 216,
   "id": "52d0b6ff",
   "metadata": {},
   "outputs": [],
   "source": [
    "cu = pd.read_csv(\"TCU.csv\")\n",
    "ip = pd.read_csv(\"INDPRO.csv\")"
   ]
  },
  {
   "cell_type": "code",
   "execution_count": 217,
   "id": "6e80cb56",
   "metadata": {},
   "outputs": [],
   "source": [
    "df = pd.merge(cu, ip, on=\"observation_date\", how=\"inner\")"
   ]
  },
  {
   "cell_type": "code",
   "execution_count": 218,
   "id": "009654f1",
   "metadata": {},
   "outputs": [],
   "source": [
    "df[\"Date\"] = pd.to_datetime(df[\"observation_date\"])\n",
    "\n",
    "\n",
    "df[\"Year\"] = df[\"Date\"].dt.year\n",
    "\n",
    "\n",
    "yearly_data = df.groupby(\"Year\")[[\"TCU\", \"INDPRO\"]].mean()\n",
    "\n",
    "\n",
    "yearly_data.reset_index(inplace=True)\n"
   ]
  },
  {
   "cell_type": "code",
   "execution_count": 273,
   "id": "7d29d178",
   "metadata": {},
   "outputs": [
    {
     "data": {
      "application/vnd.plotly.v1+json": {
       "config": {
        "plotlyServerURL": "https://plot.ly"
       },
       "data": [
        {
         "hovertemplate": "Year=%{x}<br>Average Capacity Utilization=%{y}<br>Average Industrial Production Index=%{z}<extra></extra>",
         "legendgroup": "",
         "marker": {
          "color": "purple",
          "symbol": "circle"
         },
         "mode": "markers",
         "name": "",
         "scene": "scene",
         "showlegend": false,
         "type": "scatter3d",
         "x": [
          1967,
          1968,
          1969,
          1970,
          1971,
          1972,
          1973,
          1974,
          1975,
          1976,
          1977,
          1978,
          1979,
          1980,
          1981,
          1982,
          1983,
          1984,
          1985,
          1986,
          1987,
          1988,
          1989,
          1990,
          1991,
          1992,
          1993,
          1994,
          1995,
          1996,
          1997,
          1998,
          1999,
          2000,
          2001,
          2002,
          2003,
          2004,
          2005,
          2006,
          2007,
          2008,
          2009,
          2010,
          2011,
          2012,
          2013,
          2014,
          2015,
          2016,
          2017,
          2018,
          2019,
          2020,
          2021,
          2022,
          2023,
          2024
         ],
         "y": [
          86.996975,
          87.34353333333333,
          87.42211666666667,
          81.25949166666668,
          79.63055,
          84.67724166666666,
          88.29978333333334,
          85.0261,
          75.71165,
          79.857225,
          83.41291666666666,
          85.08105833333333,
          84.894525,
          80.66761666666666,
          79.67170833333334,
          73.68504166666666,
          74.940775,
          80.46646666666666,
          79.30359166666666,
          78.52448333333334,
          81.13835833333333,
          84.26705833333334,
          83.69921666666667,
          82.30275,
          79.84836666666666,
          80.56386666666667,
          81.39495833333334,
          83.31342500000001,
          83.79249166666666,
          83.25731666666667,
          83.97840833333333,
          82.72690833333333,
          81.83714166666667,
          81.54369166666667,
          76.19694166666666,
          75.014025,
          76.11181666666667,
          78.29306666666666,
          80.28650833333333,
          80.58410833333333,
          80.76685833333333,
          77.848775,
          68.45879166666667,
          73.43429166666667,
          76.12255833333334,
          76.98193333333333,
          77.32530833333333,
          78.88425,
          77.286575,
          75.58175,
          76.81521666666667,
          79.82776666666668,
          78.64024166666667,
          72.92184166666667,
          77.69764166666667,
          80.664975,
          78.98373333333333,
          77.62885833333333
         ],
         "z": [
          35.07915,
          37.027766666666665,
          38.746658333333336,
          37.468983333333334,
          37.981208333333335,
          41.633783333333334,
          45.048233333333336,
          44.9168,
          40.914833333333334,
          44.14135833333333,
          47.51665833333333,
          50.131166666666665,
          51.63191666666666,
          50.295449999999995,
          50.9565,
          48.31543333333334,
          49.64076666666667,
          54.06546666666667,
          54.7277,
          55.28239166666666,
          58.16415833333334,
          61.1738,
          61.72781666666666,
          62.321441666666665,
          61.40298333333333,
          63.19915,
          65.27581666666667,
          68.71343333333333,
          71.89829166666667,
          75.16598333333333,
          80.56905,
          85.30824166666666,
          89.03739999999999,
          92.48968333333333,
          89.68538333333333,
          89.97685833333333,
          91.14211666666667,
          93.57804166666666,
          96.715125,
          98.92107499999999,
          101.45753333333333,
          97.94586666666667,
          86.79653333333333,
          91.62171666666667,
          94.50049166666668,
          97.36402500000001,
          99.32618333333333,
          102.30564166666666,
          100.86219999999999,
          98.69511666666666,
          99.99999166666667,
          103.15657499999999,
          102.43186666666666,
          95.12403333333333,
          99.3001,
          102.71285833333333,
          102.87660833333332,
          102.58185833333334
         ]
        },
        {
         "hovertemplate": "x=%{x}<br>y=%{y}<br>z=%{z}<extra></extra>",
         "legendgroup": "",
         "marker": {
          "color": "#636efa",
          "symbol": "circle"
         },
         "mode": "markers",
         "name": "CU Std Dev: 3.95<br>IPI Std Dev: 23.58",
         "scene": "scene",
         "showlegend": true,
         "type": "scatter3d",
         "x": [
          null
         ],
         "y": [
          null
         ],
         "z": [
          null
         ]
        }
       ],
       "layout": {
        "height": 900,
        "legend": {
         "font": {
          "size": 20
         },
         "title": {
          "font": {
           "size": 16
          },
          "text": "Legend"
         },
         "tracegroupgap": 0,
         "x": 0.1,
         "y": 1
        },
        "scene": {
         "aspectmode": "manual",
         "aspectratio": {
          "x": 1,
          "y": 1,
          "z": 0.7
         },
         "camera": {
          "center": {
           "x": -0.5,
           "y": 0,
           "z": -0.5
          }
         },
         "domain": {
          "x": [
           0,
           1
          ],
          "y": [
           0,
           1
          ]
         },
         "xaxis": {
          "title": {
           "font": {
            "size": 20
           },
           "text": "Year"
          }
         },
         "yaxis": {
          "title": {
           "font": {
            "size": 20
           },
           "text": "Average Capacity Utilization"
          }
         },
         "zaxis": {
          "title": {
           "font": {
            "size": 20
           },
           "text": "Average Industrial Production Index"
          }
         }
        },
        "template": {
         "data": {
          "bar": [
           {
            "error_x": {
             "color": "#2a3f5f"
            },
            "error_y": {
             "color": "#2a3f5f"
            },
            "marker": {
             "line": {
              "color": "white",
              "width": 0.5
             },
             "pattern": {
              "fillmode": "overlay",
              "size": 10,
              "solidity": 0.2
             }
            },
            "type": "bar"
           }
          ],
          "barpolar": [
           {
            "marker": {
             "line": {
              "color": "white",
              "width": 0.5
             },
             "pattern": {
              "fillmode": "overlay",
              "size": 10,
              "solidity": 0.2
             }
            },
            "type": "barpolar"
           }
          ],
          "carpet": [
           {
            "aaxis": {
             "endlinecolor": "#2a3f5f",
             "gridcolor": "#C8D4E3",
             "linecolor": "#C8D4E3",
             "minorgridcolor": "#C8D4E3",
             "startlinecolor": "#2a3f5f"
            },
            "baxis": {
             "endlinecolor": "#2a3f5f",
             "gridcolor": "#C8D4E3",
             "linecolor": "#C8D4E3",
             "minorgridcolor": "#C8D4E3",
             "startlinecolor": "#2a3f5f"
            },
            "type": "carpet"
           }
          ],
          "choropleth": [
           {
            "colorbar": {
             "outlinewidth": 0,
             "ticks": ""
            },
            "type": "choropleth"
           }
          ],
          "contour": [
           {
            "colorbar": {
             "outlinewidth": 0,
             "ticks": ""
            },
            "colorscale": [
             [
              0,
              "#0d0887"
             ],
             [
              0.1111111111111111,
              "#46039f"
             ],
             [
              0.2222222222222222,
              "#7201a8"
             ],
             [
              0.3333333333333333,
              "#9c179e"
             ],
             [
              0.4444444444444444,
              "#bd3786"
             ],
             [
              0.5555555555555556,
              "#d8576b"
             ],
             [
              0.6666666666666666,
              "#ed7953"
             ],
             [
              0.7777777777777778,
              "#fb9f3a"
             ],
             [
              0.8888888888888888,
              "#fdca26"
             ],
             [
              1,
              "#f0f921"
             ]
            ],
            "type": "contour"
           }
          ],
          "contourcarpet": [
           {
            "colorbar": {
             "outlinewidth": 0,
             "ticks": ""
            },
            "type": "contourcarpet"
           }
          ],
          "heatmap": [
           {
            "colorbar": {
             "outlinewidth": 0,
             "ticks": ""
            },
            "colorscale": [
             [
              0,
              "#0d0887"
             ],
             [
              0.1111111111111111,
              "#46039f"
             ],
             [
              0.2222222222222222,
              "#7201a8"
             ],
             [
              0.3333333333333333,
              "#9c179e"
             ],
             [
              0.4444444444444444,
              "#bd3786"
             ],
             [
              0.5555555555555556,
              "#d8576b"
             ],
             [
              0.6666666666666666,
              "#ed7953"
             ],
             [
              0.7777777777777778,
              "#fb9f3a"
             ],
             [
              0.8888888888888888,
              "#fdca26"
             ],
             [
              1,
              "#f0f921"
             ]
            ],
            "type": "heatmap"
           }
          ],
          "heatmapgl": [
           {
            "colorbar": {
             "outlinewidth": 0,
             "ticks": ""
            },
            "colorscale": [
             [
              0,
              "#0d0887"
             ],
             [
              0.1111111111111111,
              "#46039f"
             ],
             [
              0.2222222222222222,
              "#7201a8"
             ],
             [
              0.3333333333333333,
              "#9c179e"
             ],
             [
              0.4444444444444444,
              "#bd3786"
             ],
             [
              0.5555555555555556,
              "#d8576b"
             ],
             [
              0.6666666666666666,
              "#ed7953"
             ],
             [
              0.7777777777777778,
              "#fb9f3a"
             ],
             [
              0.8888888888888888,
              "#fdca26"
             ],
             [
              1,
              "#f0f921"
             ]
            ],
            "type": "heatmapgl"
           }
          ],
          "histogram": [
           {
            "marker": {
             "pattern": {
              "fillmode": "overlay",
              "size": 10,
              "solidity": 0.2
             }
            },
            "type": "histogram"
           }
          ],
          "histogram2d": [
           {
            "colorbar": {
             "outlinewidth": 0,
             "ticks": ""
            },
            "colorscale": [
             [
              0,
              "#0d0887"
             ],
             [
              0.1111111111111111,
              "#46039f"
             ],
             [
              0.2222222222222222,
              "#7201a8"
             ],
             [
              0.3333333333333333,
              "#9c179e"
             ],
             [
              0.4444444444444444,
              "#bd3786"
             ],
             [
              0.5555555555555556,
              "#d8576b"
             ],
             [
              0.6666666666666666,
              "#ed7953"
             ],
             [
              0.7777777777777778,
              "#fb9f3a"
             ],
             [
              0.8888888888888888,
              "#fdca26"
             ],
             [
              1,
              "#f0f921"
             ]
            ],
            "type": "histogram2d"
           }
          ],
          "histogram2dcontour": [
           {
            "colorbar": {
             "outlinewidth": 0,
             "ticks": ""
            },
            "colorscale": [
             [
              0,
              "#0d0887"
             ],
             [
              0.1111111111111111,
              "#46039f"
             ],
             [
              0.2222222222222222,
              "#7201a8"
             ],
             [
              0.3333333333333333,
              "#9c179e"
             ],
             [
              0.4444444444444444,
              "#bd3786"
             ],
             [
              0.5555555555555556,
              "#d8576b"
             ],
             [
              0.6666666666666666,
              "#ed7953"
             ],
             [
              0.7777777777777778,
              "#fb9f3a"
             ],
             [
              0.8888888888888888,
              "#fdca26"
             ],
             [
              1,
              "#f0f921"
             ]
            ],
            "type": "histogram2dcontour"
           }
          ],
          "mesh3d": [
           {
            "colorbar": {
             "outlinewidth": 0,
             "ticks": ""
            },
            "type": "mesh3d"
           }
          ],
          "parcoords": [
           {
            "line": {
             "colorbar": {
              "outlinewidth": 0,
              "ticks": ""
             }
            },
            "type": "parcoords"
           }
          ],
          "pie": [
           {
            "automargin": true,
            "type": "pie"
           }
          ],
          "scatter": [
           {
            "fillpattern": {
             "fillmode": "overlay",
             "size": 10,
             "solidity": 0.2
            },
            "type": "scatter"
           }
          ],
          "scatter3d": [
           {
            "line": {
             "colorbar": {
              "outlinewidth": 0,
              "ticks": ""
             }
            },
            "marker": {
             "colorbar": {
              "outlinewidth": 0,
              "ticks": ""
             }
            },
            "type": "scatter3d"
           }
          ],
          "scattercarpet": [
           {
            "marker": {
             "colorbar": {
              "outlinewidth": 0,
              "ticks": ""
             }
            },
            "type": "scattercarpet"
           }
          ],
          "scattergeo": [
           {
            "marker": {
             "colorbar": {
              "outlinewidth": 0,
              "ticks": ""
             }
            },
            "type": "scattergeo"
           }
          ],
          "scattergl": [
           {
            "marker": {
             "colorbar": {
              "outlinewidth": 0,
              "ticks": ""
             }
            },
            "type": "scattergl"
           }
          ],
          "scattermapbox": [
           {
            "marker": {
             "colorbar": {
              "outlinewidth": 0,
              "ticks": ""
             }
            },
            "type": "scattermapbox"
           }
          ],
          "scatterpolar": [
           {
            "marker": {
             "colorbar": {
              "outlinewidth": 0,
              "ticks": ""
             }
            },
            "type": "scatterpolar"
           }
          ],
          "scatterpolargl": [
           {
            "marker": {
             "colorbar": {
              "outlinewidth": 0,
              "ticks": ""
             }
            },
            "type": "scatterpolargl"
           }
          ],
          "scatterternary": [
           {
            "marker": {
             "colorbar": {
              "outlinewidth": 0,
              "ticks": ""
             }
            },
            "type": "scatterternary"
           }
          ],
          "surface": [
           {
            "colorbar": {
             "outlinewidth": 0,
             "ticks": ""
            },
            "colorscale": [
             [
              0,
              "#0d0887"
             ],
             [
              0.1111111111111111,
              "#46039f"
             ],
             [
              0.2222222222222222,
              "#7201a8"
             ],
             [
              0.3333333333333333,
              "#9c179e"
             ],
             [
              0.4444444444444444,
              "#bd3786"
             ],
             [
              0.5555555555555556,
              "#d8576b"
             ],
             [
              0.6666666666666666,
              "#ed7953"
             ],
             [
              0.7777777777777778,
              "#fb9f3a"
             ],
             [
              0.8888888888888888,
              "#fdca26"
             ],
             [
              1,
              "#f0f921"
             ]
            ],
            "type": "surface"
           }
          ],
          "table": [
           {
            "cells": {
             "fill": {
              "color": "#EBF0F8"
             },
             "line": {
              "color": "white"
             }
            },
            "header": {
             "fill": {
              "color": "#C8D4E3"
             },
             "line": {
              "color": "white"
             }
            },
            "type": "table"
           }
          ]
         },
         "layout": {
          "annotationdefaults": {
           "arrowcolor": "#2a3f5f",
           "arrowhead": 0,
           "arrowwidth": 1
          },
          "autotypenumbers": "strict",
          "coloraxis": {
           "colorbar": {
            "outlinewidth": 0,
            "ticks": ""
           }
          },
          "colorscale": {
           "diverging": [
            [
             0,
             "#8e0152"
            ],
            [
             0.1,
             "#c51b7d"
            ],
            [
             0.2,
             "#de77ae"
            ],
            [
             0.3,
             "#f1b6da"
            ],
            [
             0.4,
             "#fde0ef"
            ],
            [
             0.5,
             "#f7f7f7"
            ],
            [
             0.6,
             "#e6f5d0"
            ],
            [
             0.7,
             "#b8e186"
            ],
            [
             0.8,
             "#7fbc41"
            ],
            [
             0.9,
             "#4d9221"
            ],
            [
             1,
             "#276419"
            ]
           ],
           "sequential": [
            [
             0,
             "#0d0887"
            ],
            [
             0.1111111111111111,
             "#46039f"
            ],
            [
             0.2222222222222222,
             "#7201a8"
            ],
            [
             0.3333333333333333,
             "#9c179e"
            ],
            [
             0.4444444444444444,
             "#bd3786"
            ],
            [
             0.5555555555555556,
             "#d8576b"
            ],
            [
             0.6666666666666666,
             "#ed7953"
            ],
            [
             0.7777777777777778,
             "#fb9f3a"
            ],
            [
             0.8888888888888888,
             "#fdca26"
            ],
            [
             1,
             "#f0f921"
            ]
           ],
           "sequentialminus": [
            [
             0,
             "#0d0887"
            ],
            [
             0.1111111111111111,
             "#46039f"
            ],
            [
             0.2222222222222222,
             "#7201a8"
            ],
            [
             0.3333333333333333,
             "#9c179e"
            ],
            [
             0.4444444444444444,
             "#bd3786"
            ],
            [
             0.5555555555555556,
             "#d8576b"
            ],
            [
             0.6666666666666666,
             "#ed7953"
            ],
            [
             0.7777777777777778,
             "#fb9f3a"
            ],
            [
             0.8888888888888888,
             "#fdca26"
            ],
            [
             1,
             "#f0f921"
            ]
           ]
          },
          "colorway": [
           "#636efa",
           "#EF553B",
           "#00cc96",
           "#ab63fa",
           "#FFA15A",
           "#19d3f3",
           "#FF6692",
           "#B6E880",
           "#FF97FF",
           "#FECB52"
          ],
          "font": {
           "color": "#2a3f5f"
          },
          "geo": {
           "bgcolor": "white",
           "lakecolor": "white",
           "landcolor": "white",
           "showlakes": true,
           "showland": true,
           "subunitcolor": "#C8D4E3"
          },
          "hoverlabel": {
           "align": "left"
          },
          "hovermode": "closest",
          "mapbox": {
           "style": "light"
          },
          "paper_bgcolor": "white",
          "plot_bgcolor": "white",
          "polar": {
           "angularaxis": {
            "gridcolor": "#EBF0F8",
            "linecolor": "#EBF0F8",
            "ticks": ""
           },
           "bgcolor": "white",
           "radialaxis": {
            "gridcolor": "#EBF0F8",
            "linecolor": "#EBF0F8",
            "ticks": ""
           }
          },
          "scene": {
           "xaxis": {
            "backgroundcolor": "white",
            "gridcolor": "#DFE8F3",
            "gridwidth": 2,
            "linecolor": "#EBF0F8",
            "showbackground": true,
            "ticks": "",
            "zerolinecolor": "#EBF0F8"
           },
           "yaxis": {
            "backgroundcolor": "white",
            "gridcolor": "#DFE8F3",
            "gridwidth": 2,
            "linecolor": "#EBF0F8",
            "showbackground": true,
            "ticks": "",
            "zerolinecolor": "#EBF0F8"
           },
           "zaxis": {
            "backgroundcolor": "white",
            "gridcolor": "#DFE8F3",
            "gridwidth": 2,
            "linecolor": "#EBF0F8",
            "showbackground": true,
            "ticks": "",
            "zerolinecolor": "#EBF0F8"
           }
          },
          "shapedefaults": {
           "line": {
            "color": "#2a3f5f"
           }
          },
          "ternary": {
           "aaxis": {
            "gridcolor": "#DFE8F3",
            "linecolor": "#A2B1C6",
            "ticks": ""
           },
           "baxis": {
            "gridcolor": "#DFE8F3",
            "linecolor": "#A2B1C6",
            "ticks": ""
           },
           "bgcolor": "white",
           "caxis": {
            "gridcolor": "#DFE8F3",
            "linecolor": "#A2B1C6",
            "ticks": ""
           }
          },
          "title": {
           "x": 0.05
          },
          "xaxis": {
           "automargin": true,
           "gridcolor": "#EBF0F8",
           "linecolor": "#EBF0F8",
           "ticks": "",
           "title": {
            "standoff": 15
           },
           "zerolinecolor": "#EBF0F8",
           "zerolinewidth": 2
          },
          "yaxis": {
           "automargin": true,
           "gridcolor": "#EBF0F8",
           "linecolor": "#EBF0F8",
           "ticks": "",
           "title": {
            "standoff": 15
           },
           "zerolinecolor": "#EBF0F8",
           "zerolinewidth": 2
          }
         }
        },
        "title": {
         "font": {
          "size": 30
         },
         "text": "3D Plot: Yearly Averages of CU vs. IPI",
         "x": 0.35,
         "y": 0.95
        },
        "width": 1400
       }
      },
      "text/html": [
       "<div>                            <div id=\"18e49f90-60d7-47ba-8318-640cd7b3414d\" class=\"plotly-graph-div\" style=\"height:900px; width:1400px;\"></div>            <script type=\"text/javascript\">                require([\"plotly\"], function(Plotly) {                    window.PLOTLYENV=window.PLOTLYENV || {};                                    if (document.getElementById(\"18e49f90-60d7-47ba-8318-640cd7b3414d\")) {                    Plotly.newPlot(                        \"18e49f90-60d7-47ba-8318-640cd7b3414d\",                        [{\"hovertemplate\":\"Year=%{x}\\u003cbr\\u003eAverage Capacity Utilization=%{y}\\u003cbr\\u003eAverage Industrial Production Index=%{z}\\u003cextra\\u003e\\u003c\\u002fextra\\u003e\",\"legendgroup\":\"\",\"marker\":{\"color\":\"purple\",\"symbol\":\"circle\"},\"mode\":\"markers\",\"name\":\"\",\"scene\":\"scene\",\"showlegend\":false,\"x\":[1967,1968,1969,1970,1971,1972,1973,1974,1975,1976,1977,1978,1979,1980,1981,1982,1983,1984,1985,1986,1987,1988,1989,1990,1991,1992,1993,1994,1995,1996,1997,1998,1999,2000,2001,2002,2003,2004,2005,2006,2007,2008,2009,2010,2011,2012,2013,2014,2015,2016,2017,2018,2019,2020,2021,2022,2023,2024],\"y\":[86.996975,87.34353333333333,87.42211666666667,81.25949166666668,79.63055,84.67724166666666,88.29978333333334,85.0261,75.71165,79.857225,83.41291666666666,85.08105833333333,84.894525,80.66761666666666,79.67170833333334,73.68504166666666,74.940775,80.46646666666666,79.30359166666666,78.52448333333334,81.13835833333333,84.26705833333334,83.69921666666667,82.30275,79.84836666666666,80.56386666666667,81.39495833333334,83.31342500000001,83.79249166666666,83.25731666666667,83.97840833333333,82.72690833333333,81.83714166666667,81.54369166666667,76.19694166666666,75.014025,76.11181666666667,78.29306666666666,80.28650833333333,80.58410833333333,80.76685833333333,77.848775,68.45879166666667,73.43429166666667,76.12255833333334,76.98193333333333,77.32530833333333,78.88425,77.286575,75.58175,76.81521666666667,79.82776666666668,78.64024166666667,72.92184166666667,77.69764166666667,80.664975,78.98373333333333,77.62885833333333],\"z\":[35.07915,37.027766666666665,38.746658333333336,37.468983333333334,37.981208333333335,41.633783333333334,45.048233333333336,44.9168,40.914833333333334,44.14135833333333,47.51665833333333,50.131166666666665,51.63191666666666,50.295449999999995,50.9565,48.31543333333334,49.64076666666667,54.06546666666667,54.7277,55.28239166666666,58.16415833333334,61.1738,61.72781666666666,62.321441666666665,61.40298333333333,63.19915,65.27581666666667,68.71343333333333,71.89829166666667,75.16598333333333,80.56905,85.30824166666666,89.03739999999999,92.48968333333333,89.68538333333333,89.97685833333333,91.14211666666667,93.57804166666666,96.715125,98.92107499999999,101.45753333333333,97.94586666666667,86.79653333333333,91.62171666666667,94.50049166666668,97.36402500000001,99.32618333333333,102.30564166666666,100.86219999999999,98.69511666666666,99.99999166666667,103.15657499999999,102.43186666666666,95.12403333333333,99.3001,102.71285833333333,102.87660833333332,102.58185833333334],\"type\":\"scatter3d\"},{\"hovertemplate\":\"x=%{x}\\u003cbr\\u003ey=%{y}\\u003cbr\\u003ez=%{z}\\u003cextra\\u003e\\u003c\\u002fextra\\u003e\",\"legendgroup\":\"\",\"marker\":{\"color\":\"#636efa\",\"symbol\":\"circle\"},\"mode\":\"markers\",\"name\":\"CU Std Dev: 3.95\\u003cbr\\u003eIPI Std Dev: 23.58\",\"scene\":\"scene\",\"showlegend\":true,\"x\":[null],\"y\":[null],\"z\":[null],\"type\":\"scatter3d\"}],                        {\"template\":{\"data\":{\"barpolar\":[{\"marker\":{\"line\":{\"color\":\"white\",\"width\":0.5},\"pattern\":{\"fillmode\":\"overlay\",\"size\":10,\"solidity\":0.2}},\"type\":\"barpolar\"}],\"bar\":[{\"error_x\":{\"color\":\"#2a3f5f\"},\"error_y\":{\"color\":\"#2a3f5f\"},\"marker\":{\"line\":{\"color\":\"white\",\"width\":0.5},\"pattern\":{\"fillmode\":\"overlay\",\"size\":10,\"solidity\":0.2}},\"type\":\"bar\"}],\"carpet\":[{\"aaxis\":{\"endlinecolor\":\"#2a3f5f\",\"gridcolor\":\"#C8D4E3\",\"linecolor\":\"#C8D4E3\",\"minorgridcolor\":\"#C8D4E3\",\"startlinecolor\":\"#2a3f5f\"},\"baxis\":{\"endlinecolor\":\"#2a3f5f\",\"gridcolor\":\"#C8D4E3\",\"linecolor\":\"#C8D4E3\",\"minorgridcolor\":\"#C8D4E3\",\"startlinecolor\":\"#2a3f5f\"},\"type\":\"carpet\"}],\"choropleth\":[{\"colorbar\":{\"outlinewidth\":0,\"ticks\":\"\"},\"type\":\"choropleth\"}],\"contourcarpet\":[{\"colorbar\":{\"outlinewidth\":0,\"ticks\":\"\"},\"type\":\"contourcarpet\"}],\"contour\":[{\"colorbar\":{\"outlinewidth\":0,\"ticks\":\"\"},\"colorscale\":[[0.0,\"#0d0887\"],[0.1111111111111111,\"#46039f\"],[0.2222222222222222,\"#7201a8\"],[0.3333333333333333,\"#9c179e\"],[0.4444444444444444,\"#bd3786\"],[0.5555555555555556,\"#d8576b\"],[0.6666666666666666,\"#ed7953\"],[0.7777777777777778,\"#fb9f3a\"],[0.8888888888888888,\"#fdca26\"],[1.0,\"#f0f921\"]],\"type\":\"contour\"}],\"heatmapgl\":[{\"colorbar\":{\"outlinewidth\":0,\"ticks\":\"\"},\"colorscale\":[[0.0,\"#0d0887\"],[0.1111111111111111,\"#46039f\"],[0.2222222222222222,\"#7201a8\"],[0.3333333333333333,\"#9c179e\"],[0.4444444444444444,\"#bd3786\"],[0.5555555555555556,\"#d8576b\"],[0.6666666666666666,\"#ed7953\"],[0.7777777777777778,\"#fb9f3a\"],[0.8888888888888888,\"#fdca26\"],[1.0,\"#f0f921\"]],\"type\":\"heatmapgl\"}],\"heatmap\":[{\"colorbar\":{\"outlinewidth\":0,\"ticks\":\"\"},\"colorscale\":[[0.0,\"#0d0887\"],[0.1111111111111111,\"#46039f\"],[0.2222222222222222,\"#7201a8\"],[0.3333333333333333,\"#9c179e\"],[0.4444444444444444,\"#bd3786\"],[0.5555555555555556,\"#d8576b\"],[0.6666666666666666,\"#ed7953\"],[0.7777777777777778,\"#fb9f3a\"],[0.8888888888888888,\"#fdca26\"],[1.0,\"#f0f921\"]],\"type\":\"heatmap\"}],\"histogram2dcontour\":[{\"colorbar\":{\"outlinewidth\":0,\"ticks\":\"\"},\"colorscale\":[[0.0,\"#0d0887\"],[0.1111111111111111,\"#46039f\"],[0.2222222222222222,\"#7201a8\"],[0.3333333333333333,\"#9c179e\"],[0.4444444444444444,\"#bd3786\"],[0.5555555555555556,\"#d8576b\"],[0.6666666666666666,\"#ed7953\"],[0.7777777777777778,\"#fb9f3a\"],[0.8888888888888888,\"#fdca26\"],[1.0,\"#f0f921\"]],\"type\":\"histogram2dcontour\"}],\"histogram2d\":[{\"colorbar\":{\"outlinewidth\":0,\"ticks\":\"\"},\"colorscale\":[[0.0,\"#0d0887\"],[0.1111111111111111,\"#46039f\"],[0.2222222222222222,\"#7201a8\"],[0.3333333333333333,\"#9c179e\"],[0.4444444444444444,\"#bd3786\"],[0.5555555555555556,\"#d8576b\"],[0.6666666666666666,\"#ed7953\"],[0.7777777777777778,\"#fb9f3a\"],[0.8888888888888888,\"#fdca26\"],[1.0,\"#f0f921\"]],\"type\":\"histogram2d\"}],\"histogram\":[{\"marker\":{\"pattern\":{\"fillmode\":\"overlay\",\"size\":10,\"solidity\":0.2}},\"type\":\"histogram\"}],\"mesh3d\":[{\"colorbar\":{\"outlinewidth\":0,\"ticks\":\"\"},\"type\":\"mesh3d\"}],\"parcoords\":[{\"line\":{\"colorbar\":{\"outlinewidth\":0,\"ticks\":\"\"}},\"type\":\"parcoords\"}],\"pie\":[{\"automargin\":true,\"type\":\"pie\"}],\"scatter3d\":[{\"line\":{\"colorbar\":{\"outlinewidth\":0,\"ticks\":\"\"}},\"marker\":{\"colorbar\":{\"outlinewidth\":0,\"ticks\":\"\"}},\"type\":\"scatter3d\"}],\"scattercarpet\":[{\"marker\":{\"colorbar\":{\"outlinewidth\":0,\"ticks\":\"\"}},\"type\":\"scattercarpet\"}],\"scattergeo\":[{\"marker\":{\"colorbar\":{\"outlinewidth\":0,\"ticks\":\"\"}},\"type\":\"scattergeo\"}],\"scattergl\":[{\"marker\":{\"colorbar\":{\"outlinewidth\":0,\"ticks\":\"\"}},\"type\":\"scattergl\"}],\"scattermapbox\":[{\"marker\":{\"colorbar\":{\"outlinewidth\":0,\"ticks\":\"\"}},\"type\":\"scattermapbox\"}],\"scatterpolargl\":[{\"marker\":{\"colorbar\":{\"outlinewidth\":0,\"ticks\":\"\"}},\"type\":\"scatterpolargl\"}],\"scatterpolar\":[{\"marker\":{\"colorbar\":{\"outlinewidth\":0,\"ticks\":\"\"}},\"type\":\"scatterpolar\"}],\"scatter\":[{\"fillpattern\":{\"fillmode\":\"overlay\",\"size\":10,\"solidity\":0.2},\"type\":\"scatter\"}],\"scatterternary\":[{\"marker\":{\"colorbar\":{\"outlinewidth\":0,\"ticks\":\"\"}},\"type\":\"scatterternary\"}],\"surface\":[{\"colorbar\":{\"outlinewidth\":0,\"ticks\":\"\"},\"colorscale\":[[0.0,\"#0d0887\"],[0.1111111111111111,\"#46039f\"],[0.2222222222222222,\"#7201a8\"],[0.3333333333333333,\"#9c179e\"],[0.4444444444444444,\"#bd3786\"],[0.5555555555555556,\"#d8576b\"],[0.6666666666666666,\"#ed7953\"],[0.7777777777777778,\"#fb9f3a\"],[0.8888888888888888,\"#fdca26\"],[1.0,\"#f0f921\"]],\"type\":\"surface\"}],\"table\":[{\"cells\":{\"fill\":{\"color\":\"#EBF0F8\"},\"line\":{\"color\":\"white\"}},\"header\":{\"fill\":{\"color\":\"#C8D4E3\"},\"line\":{\"color\":\"white\"}},\"type\":\"table\"}]},\"layout\":{\"annotationdefaults\":{\"arrowcolor\":\"#2a3f5f\",\"arrowhead\":0,\"arrowwidth\":1},\"autotypenumbers\":\"strict\",\"coloraxis\":{\"colorbar\":{\"outlinewidth\":0,\"ticks\":\"\"}},\"colorscale\":{\"diverging\":[[0,\"#8e0152\"],[0.1,\"#c51b7d\"],[0.2,\"#de77ae\"],[0.3,\"#f1b6da\"],[0.4,\"#fde0ef\"],[0.5,\"#f7f7f7\"],[0.6,\"#e6f5d0\"],[0.7,\"#b8e186\"],[0.8,\"#7fbc41\"],[0.9,\"#4d9221\"],[1,\"#276419\"]],\"sequential\":[[0.0,\"#0d0887\"],[0.1111111111111111,\"#46039f\"],[0.2222222222222222,\"#7201a8\"],[0.3333333333333333,\"#9c179e\"],[0.4444444444444444,\"#bd3786\"],[0.5555555555555556,\"#d8576b\"],[0.6666666666666666,\"#ed7953\"],[0.7777777777777778,\"#fb9f3a\"],[0.8888888888888888,\"#fdca26\"],[1.0,\"#f0f921\"]],\"sequentialminus\":[[0.0,\"#0d0887\"],[0.1111111111111111,\"#46039f\"],[0.2222222222222222,\"#7201a8\"],[0.3333333333333333,\"#9c179e\"],[0.4444444444444444,\"#bd3786\"],[0.5555555555555556,\"#d8576b\"],[0.6666666666666666,\"#ed7953\"],[0.7777777777777778,\"#fb9f3a\"],[0.8888888888888888,\"#fdca26\"],[1.0,\"#f0f921\"]]},\"colorway\":[\"#636efa\",\"#EF553B\",\"#00cc96\",\"#ab63fa\",\"#FFA15A\",\"#19d3f3\",\"#FF6692\",\"#B6E880\",\"#FF97FF\",\"#FECB52\"],\"font\":{\"color\":\"#2a3f5f\"},\"geo\":{\"bgcolor\":\"white\",\"lakecolor\":\"white\",\"landcolor\":\"white\",\"showlakes\":true,\"showland\":true,\"subunitcolor\":\"#C8D4E3\"},\"hoverlabel\":{\"align\":\"left\"},\"hovermode\":\"closest\",\"mapbox\":{\"style\":\"light\"},\"paper_bgcolor\":\"white\",\"plot_bgcolor\":\"white\",\"polar\":{\"angularaxis\":{\"gridcolor\":\"#EBF0F8\",\"linecolor\":\"#EBF0F8\",\"ticks\":\"\"},\"bgcolor\":\"white\",\"radialaxis\":{\"gridcolor\":\"#EBF0F8\",\"linecolor\":\"#EBF0F8\",\"ticks\":\"\"}},\"scene\":{\"xaxis\":{\"backgroundcolor\":\"white\",\"gridcolor\":\"#DFE8F3\",\"gridwidth\":2,\"linecolor\":\"#EBF0F8\",\"showbackground\":true,\"ticks\":\"\",\"zerolinecolor\":\"#EBF0F8\"},\"yaxis\":{\"backgroundcolor\":\"white\",\"gridcolor\":\"#DFE8F3\",\"gridwidth\":2,\"linecolor\":\"#EBF0F8\",\"showbackground\":true,\"ticks\":\"\",\"zerolinecolor\":\"#EBF0F8\"},\"zaxis\":{\"backgroundcolor\":\"white\",\"gridcolor\":\"#DFE8F3\",\"gridwidth\":2,\"linecolor\":\"#EBF0F8\",\"showbackground\":true,\"ticks\":\"\",\"zerolinecolor\":\"#EBF0F8\"}},\"shapedefaults\":{\"line\":{\"color\":\"#2a3f5f\"}},\"ternary\":{\"aaxis\":{\"gridcolor\":\"#DFE8F3\",\"linecolor\":\"#A2B1C6\",\"ticks\":\"\"},\"baxis\":{\"gridcolor\":\"#DFE8F3\",\"linecolor\":\"#A2B1C6\",\"ticks\":\"\"},\"bgcolor\":\"white\",\"caxis\":{\"gridcolor\":\"#DFE8F3\",\"linecolor\":\"#A2B1C6\",\"ticks\":\"\"}},\"title\":{\"x\":0.05},\"xaxis\":{\"automargin\":true,\"gridcolor\":\"#EBF0F8\",\"linecolor\":\"#EBF0F8\",\"ticks\":\"\",\"title\":{\"standoff\":15},\"zerolinecolor\":\"#EBF0F8\",\"zerolinewidth\":2},\"yaxis\":{\"automargin\":true,\"gridcolor\":\"#EBF0F8\",\"linecolor\":\"#EBF0F8\",\"ticks\":\"\",\"title\":{\"standoff\":15},\"zerolinecolor\":\"#EBF0F8\",\"zerolinewidth\":2}}},\"scene\":{\"domain\":{\"x\":[0.0,1.0],\"y\":[0.0,1.0]},\"xaxis\":{\"title\":{\"text\":\"Year\",\"font\":{\"size\":20}}},\"yaxis\":{\"title\":{\"text\":\"Average Capacity Utilization\",\"font\":{\"size\":20}}},\"zaxis\":{\"title\":{\"text\":\"Average Industrial Production Index\",\"font\":{\"size\":20}}},\"aspectratio\":{\"x\":1,\"y\":1,\"z\":0.7},\"camera\":{\"center\":{\"x\":-0.5,\"y\":0,\"z\":-0.5}},\"aspectmode\":\"manual\"},\"legend\":{\"tracegroupgap\":0,\"font\":{\"size\":20},\"title\":{\"font\":{\"size\":16},\"text\":\"Legend\"},\"x\":0.1,\"y\":1},\"title\":{\"text\":\"3D Plot: Yearly Averages of CU vs. IPI\",\"font\":{\"size\":30},\"x\":0.35,\"y\":0.95},\"width\":1400,\"height\":900},                        {\"responsive\": true}                    ).then(function(){\n",
       "                            \n",
       "var gd = document.getElementById('18e49f90-60d7-47ba-8318-640cd7b3414d');\n",
       "var x = new MutationObserver(function (mutations, observer) {{\n",
       "        var display = window.getComputedStyle(gd).display;\n",
       "        if (!display || display === 'none') {{\n",
       "            console.log([gd, 'removed!']);\n",
       "            Plotly.purge(gd);\n",
       "            observer.disconnect();\n",
       "        }}\n",
       "}});\n",
       "\n",
       "// Listen for the removal of the full notebook cells\n",
       "var notebookContainer = gd.closest('#notebook-container');\n",
       "if (notebookContainer) {{\n",
       "    x.observe(notebookContainer, {childList: true});\n",
       "}}\n",
       "\n",
       "// Listen for the clearing of the current output cell\n",
       "var outputEl = gd.closest('.output');\n",
       "if (outputEl) {{\n",
       "    x.observe(outputEl, {childList: true});\n",
       "}}\n",
       "\n",
       "                        })                };                });            </script>        </div>"
      ]
     },
     "metadata": {},
     "output_type": "display_data"
    }
   ],
   "source": [
    "tcu_std_dev = np.std(yearly_data[\"TCU\"])\n",
    "indpro_std_dev = np.std(yearly_data[\"INDPRO\"])\n",
    "legend_text = f\"CU Std Dev: {tcu_std_dev:.2f}<br>IPI Std Dev: {indpro_std_dev:.2f}\"\n",
    "\n",
    "\n",
    "fig1 = px.scatter_3d(\n",
    "    yearly_data,\n",
    "    x=\"Year\",\n",
    "    y=\"TCU\",\n",
    "    z=\"INDPRO\",\n",
    "    color_discrete_sequence=[\"purple\"],  \n",
    "    title=\"3D Plot: Yearly Averages of CU vs. IPI\",\n",
    "    labels={\n",
    "        \"Year\": \"Year\",\n",
    "        \"TCU\": \"Average Capacity Utilization\",\n",
    "        \"INDPRO\": \"Average Industrial Production Index\"\n",
    "    },\n",
    "    template=\"plotly_white\"\n",
    ")\n",
    "\n",
    "# Add legend\n",
    "fig1.add_trace(\n",
    "    px.scatter_3d(\n",
    "        yearly_data,\n",
    "        x=[None],  \n",
    "        y=[None],\n",
    "        z=[None]\n",
    "    ).data[0].update(\n",
    "        showlegend=True,\n",
    "        name=legend_text\n",
    "    )\n",
    ")\n",
    "\n",
    "\n",
    "fig1.update_layout(\n",
    "    width=1400,  \n",
    "    height=900,  \n",
    "    title=dict(\n",
    "        text=\"3D Plot: Yearly Averages of CU vs. IPI\",\n",
    "        font=dict(size=30),  \n",
    "        x=0.35, \n",
    "        y=0.95  \n",
    "    ),\n",
    "    scene=dict(\n",
    "        xaxis=dict(title=dict(text=\"Year\", font=dict(size=20))),\n",
    "        yaxis=dict(title=dict(text=\"Average Capacity Utilization\", font=dict(size=20))),\n",
    "        zaxis=dict(title=dict(text=\"Average Industrial Production Index\", font=dict(size=20))),\n",
    "        aspectmode=\"manual\", \n",
    "        aspectratio=dict(x=1, y=1, z=0.7),  # Adjust proportions to fit within the frame\n",
    "        camera=dict(\n",
    "            center=dict(x=-0.5, y=0, z=-.5)  # Shift the plot to the left\n",
    "        )\n",
    "    ),\n",
    "    legend=dict(\n",
    "        font=dict(size=20),\n",
    "        x=0.1,  \n",
    "        y=1,  \n",
    "        title=dict(text=\"Legend\", font=dict(size=16))\n",
    "    )\n",
    ")\n",
    "\n",
    "\n",
    "plot1_html = fig1.to_html(full_html=False)\n",
    "\n",
    "fig1\n"
   ]
  },
  {
   "attachments": {},
   "cell_type": "markdown",
   "id": "e1bc3f78",
   "metadata": {},
   "source": [
    "This 3D scatter plot reveals that while the Industrial Production Index (IPI) has significantly increased over time, Capacity Utilization (CU) has remained relatively stable, as indicated by its small variability (standard deviation of 3.95) compared to the larger variability in IPI (23.58). For Base Power Company, this suggests that industrial output is growing without a proportional increase in capacity usage efficiency. This insight highlights the need for Base to continue focusing on scalable energy solutions to support rising production demand, rather than prioritizing efficiency improvements, which don't seem as necessary in driving production. Additionally, the stable CU may indicate underutilized industrial capacity, suggesting opportunities for Base to optimize energy distribution to areas with higher utilization while planning for long-term growth."
   ]
  },
  {
   "cell_type": "markdown",
   "id": "0922b813",
   "metadata": {},
   "source": [
    "_________"
   ]
  },
  {
   "attachments": {},
   "cell_type": "markdown",
   "id": "740113f9",
   "metadata": {},
   "source": [
    "The following dataset shows how the company has indeed been focusing on scalable energy solutions. This data shows how the company is meeting energy demand by fuel volume usage over time."
   ]
  },
  {
   "cell_type": "code",
   "execution_count": 81,
   "id": "73070494",
   "metadata": {},
   "outputs": [],
   "source": [
    "fuel = pd.read_csv(\"IPFUELS.csv\")"
   ]
  },
  {
   "cell_type": "code",
   "execution_count": 82,
   "id": "64e86ef7",
   "metadata": {},
   "outputs": [],
   "source": [
    "fuel = fuel[fuel[\"observation_date\"]>=\"1967-01-01\"]"
   ]
  },
  {
   "cell_type": "code",
   "execution_count": 98,
   "id": "41835a92",
   "metadata": {},
   "outputs": [],
   "source": [
    "fuel[\"Date\"] = pd.to_datetime(fuel[\"observation_date\"])\n",
    "\n",
    "\n",
    "fuel[\"Year\"] = fuel[\"Date\"].dt.year\n",
    "\n",
    "\n",
    "yearly_fuel = pd.DataFrame(fuel.groupby(\"Year\")[\"IPFUELS\"].mean())"
   ]
  },
  {
   "cell_type": "code",
   "execution_count": 274,
   "id": "7ad280dd",
   "metadata": {},
   "outputs": [
    {
     "data": {
      "image/png": "[encoded data removed]",
      "text/plain": [
       "<Figure size 1200x800 with 1 Axes>"
      ]
     },
     "metadata": {},
     "output_type": "display_data"
    }
   ],
   "source": [
    "positive_derivative_mean = round(np.mean([1 if i > 0 else 0 for i in yearly_fuel[\"Derivative\"]]), 2)\n",
    "\n",
    "\n",
    "fig, ax = plt.subplots(figsize=(12, 8))\n",
    "\n",
    "\n",
    "ax.plot(yearly_fuel.index, yearly_fuel[\"IPFUELS\"], label=\"Original Value\", marker=\"o\", color=\"blue\")\n",
    "\n",
    "\n",
    "ax.plot(\n",
    "    yearly_fuel.index,\n",
    "    yearly_fuel[\"Derivative\"],\n",
    "    label=f\"Derivative (Rate of Change) - {positive_derivative_mean*100:.0f}% positive\",\n",
    "    marker=\"o\",\n",
    "    color=\"red\"\n",
    ")\n",
    "\n",
    "ax.set_xlabel(\"Year\", fontsize=14)\n",
    "ax.set_ylabel(\"Value / Derivative\", fontsize=14)\n",
    "ax.set_title(\"Original Value and Derivative Over Time of Fuel Usage\", fontsize=16)\n",
    "ax.legend(fontsize=12)\n",
    "ax.grid(True)\n",
    "\n",
    "\n",
    "plt.show()"
   ]
  },
  {
   "attachments": {},
   "cell_type": "markdown",
   "id": "f88bf740",
   "metadata": {},
   "source": [
    "The fact that the derivative is positive 74% of the time but still relatively close to 0 indicates a steady increase over time of fuel usage indicating that the company has most likely increased production by scaling as opposed to enhancing capacity utilization."
   ]
  },
  {
   "cell_type": "markdown",
   "id": "4ab59bee",
   "metadata": {},
   "source": [
    "___________________"
   ]
  },
  {
   "attachments": {},
   "cell_type": "markdown",
   "id": "f9c6f266",
   "metadata": {},
   "source": [
    "The final plot displays comparatively by year how much electricity generation came from fossil fuels versus solar energy."
   ]
  },
  {
   "cell_type": "code",
   "execution_count": 152,
   "id": "0036c9da",
   "metadata": {},
   "outputs": [],
   "source": [
    "energy = pd.read_excel(\"IRENA_Stats_extract_2024 H2.xlsx\", sheet_name=1)"
   ]
  },
  {
   "cell_type": "code",
   "execution_count": 183,
   "id": "17991d22",
   "metadata": {},
   "outputs": [],
   "source": [
    "solar = pd.DataFrame(energy[(energy[\"Country\"]==\"United States of America (the)\") & (energy[\"Group Technology\"]==\"Solar energy\")].groupby(\"Year\")[\"Electricity Generation (GWh)\"].sum()).iloc[0:-1]\n",
    "fossil = pd.DataFrame(energy[(energy[\"Country\"]==\"United States of America (the)\") & (energy[\"Group Technology\"]==\"Fossil fuels\")].groupby(\"Year\")[\"Electricity Generation (GWh)\"].sum()).iloc[0:-1]\n",
    "\n"
   ]
  },
  {
   "cell_type": "code",
   "execution_count": 210,
   "id": "8297134d",
   "metadata": {},
   "outputs": [],
   "source": [
    "df2 = pd.merge(solar, fossil, left_index=True, right_index=True)"
   ]
  },
  {
   "cell_type": "code",
   "execution_count": 212,
   "id": "6119c2a0",
   "metadata": {},
   "outputs": [
    {
     "data": {
      "image/png": "[encoded data removed]",
      "text/plain": [
       "<Figure size 1400x800 with 1 Axes>"
      ]
     },
     "metadata": {},
     "output_type": "display_data"
    }
   ],
   "source": [
    "import seaborn as sns\n",
    "\n",
    "df2 = df2.reset_index()\n",
    "\n",
    "\n",
    "df_long = df2.melt(\n",
    "    id_vars=\"Year\",\n",
    "    value_vars=[\"Electricity Generation (GWh)_x\", \"Electricity Generation (GWh)_y\"],\n",
    "    var_name=\"Source\",\n",
    "    value_name=\"Electricity Generation (GWh)\"\n",
    ")\n",
    "\n",
    "\n",
    "df_long[\"Source\"] = df_long[\"Source\"].replace({\n",
    "    \"Electricity Generation (GWh)_x\": \"Solar\",\n",
    "    \"Electricity Generation (GWh)_y\": \"Fossil Fuels\"\n",
    "})\n",
    "\n",
    "\n",
    "sns.set_theme(style=\"whitegrid\")\n",
    "\n",
    "\n",
    "plt.figure(figsize=(14, 8))\n",
    "sns.barplot(\n",
    "    data=df_long,\n",
    "    x=\"Year\",\n",
    "    y=\"Electricity Generation (GWh)\",\n",
    "    hue=\"Source\",\n",
    "    palette=\"coolwarm\"\n",
    ")\n",
    "\n",
    "\n",
    "plt.xlabel(\"Year\", fontsize=12)\n",
    "plt.ylabel(\"Electricity Generation (GWh)\", fontsize=12)\n",
    "plt.title(\"Electricity Generation by Year: Solar vs Fossil Fuels\", fontsize=16)\n",
    "\n",
    "\n",
    "plt.xticks(rotation=45)\n",
    "\n",
    "\n",
    "plt.tight_layout()\n",
    "plt.show()\n"
   ]
  },
  {
   "cell_type": "markdown",
   "id": "c6880e25",
   "metadata": {},
   "source": [
    "## Why the First Plot Matters"
   ]
  },
  {
   "cell_type": "markdown",
   "id": "9e5352f9",
   "metadata": {},
   "source": [
    "The first plot, showing Capacity Utilization over time, is the most important because it directly highlights \n",
    "the efficiency of resource use. High utilization indicates effective operations, while low utilization reveals \n",
    "opportunities for improvement. This insight is crucial for Base Power's strategic planning and growth in order \n",
    "to help facilitate production scaling."
   ]
  },
  {
   "cell_type": "code",
   "execution_count": null,
   "id": "6818d5b4",
   "metadata": {},
   "outputs": [],
   "source": []
  }
 ],
 "metadata": {
  "kernelspec": {
   "display_name": "Python 3 (ipykernel)",
   "language": "python",
   "name": "python3"
  },
  "language_info": {
   "codemirror_mode": {
    "name": "ipython",
    "version": 3
   },
   "file_extension": ".py",
   "mimetype": "text/x-python",
   "name": "python",
   "nbconvert_exporter": "python",
   "pygments_lexer": "ipython3",
   "version": "3.8.13"
  }
 },
 "nbformat": 4,
 "nbformat_minor": 5
}
